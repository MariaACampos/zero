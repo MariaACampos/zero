{
  "nbformat": 4,
  "nbformat_minor": 0,
  "metadata": {
    "colab": {
      "provenance": [],
      "toc_visible": true,
      "authorship_tag": "ABX9TyNrrt4H5MLXAdf1KZBGf1hP",
      "include_colab_link": true
    },
    "kernelspec": {
      "name": "python3",
      "display_name": "Python 3"
    },
    "language_info": {
      "name": "python"
    }
  },
  "cells": [
    {
      "cell_type": "markdown",
      "metadata": {
        "id": "view-in-github",
        "colab_type": "text"
      },
      "source": [
        "<a href=\"https://colab.research.google.com/github/MariaACampos/zero/blob/main/Calcuadora.ipynb\" target=\"_parent\"><img src=\"https://colab.research.google.com/assets/colab-badge.svg\" alt=\"Open In Colab\"/></a>"
      ]
    },
    {
      "cell_type": "code",
      "execution_count": null,
      "metadata": {
        "id": "g1mGLwpVVR_O"
      },
      "outputs": [],
      "source": []
    },
    {
      "cell_type": "markdown",
      "source": [
        "Faça uma função calculadora de dois números com três parâmetros: os dois primeiros serão os números da operação e o terceiro será a entrada que definirá a operação a ser executada. Considera a seguinte definição:\n",
        "1. Soma\n",
        "2. Subtração\n",
        "3. Multiplicação\n",
        "4. Divisão\n",
        "\n",
        "Caso seja inserido um número de operação que não exista, o resultado deverá ser 0.\n",
        "\n",
        "Trabalhe esse código em seu IDE, suba ele para sua conta no GitHub e compartilhe o link desse projeto no campo ao lado para que outros desenvolvedores possam analisá-lo."
      ],
      "metadata": {
        "id": "amzMEx1CVi4q"
      }
    },
    {
      "cell_type": "code",
      "source": [
        "def calculadora (num1 , num2 , operador):\n",
        "    if (operador == 1):\n",
        "      return num1+num2\n",
        "    elif(operador == 2):\n",
        "      return num1-num2\n",
        "    elif (operador == 3):\n",
        "       return num1*num2\n",
        "    elif(operador ==4 ):\n",
        "      return num1/num2\n",
        "    else:\n",
        "     return 0\n",
        "\n",
        "print (\"Digite um valor: \")\n",
        "num1 = int(input(\"\"))\n",
        "print (\"Digite um valor: \")\n",
        "num2 = int(input(\"\"))\n",
        "print (\"Digite um operador: \")\n",
        "print (\"sendo: 1 Soma ----- 2 Subtração  ------ 3 Multiplicação --------- 4 Divisão\")\n",
        "oper = int(input(\"\"))\n",
        "resultado = calculadora (num1,num2,oper )\n",
        "print(\"O valor do resultado é:\", resultado)\n"
      ],
      "metadata": {
        "colab": {
          "base_uri": "https://localhost:8080/"
        },
        "id": "dIJBLFigVnpG",
        "outputId": "9c7bcc13-d103-4588-e63f-aa6aaa526a53"
      },
      "execution_count": null,
      "outputs": [
        {
          "output_type": "stream",
          "name": "stdout",
          "text": [
            "Digite um valor: \n",
            "254\n",
            "Digite um valor: \n",
            "5856\n",
            "Digite um operador: \n",
            "sendo: 1 Soma ----- 2 Subtração  ------ 3 Multiplicação --------- 4 Divisão\n",
            "4\n",
            "O valor do resultado é: 0.04337431693989071\n"
          ]
        }
      ]
    }
  ]
}