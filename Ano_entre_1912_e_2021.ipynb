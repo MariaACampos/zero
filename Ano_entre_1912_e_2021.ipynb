{
  "nbformat": 4,
  "nbformat_minor": 0,
  "metadata": {
    "colab": {
      "provenance": [],
      "authorship_tag": "ABX9TyO2CugDMFz/Y8kxoBRH6I8b",
      "include_colab_link": true
    },
    "kernelspec": {
      "name": "python3",
      "display_name": "Python 3"
    },
    "language_info": {
      "name": "python"
    }
  },
  "cells": [
    {
      "cell_type": "markdown",
      "metadata": {
        "id": "view-in-github",
        "colab_type": "text"
      },
      "source": [
        "<a href=\"https://colab.research.google.com/github/MariaACampos/zero/blob/main/Ano_entre_1912_e_2021.ipynb\" target=\"_parent\"><img src=\"https://colab.research.google.com/assets/colab-badge.svg\" alt=\"Open In Colab\"/></a>"
      ]
    },
    {
      "cell_type": "code",
      "execution_count": null,
      "metadata": {
        "id": "4ZkJbgVCzle3"
      },
      "outputs": [],
      "source": [
        "\n"
      ]
    },
    {
      "cell_type": "markdown",
      "source": [
        "Desenvolva um programa que recebe do usuário nome completo e ano de nascimento que seja entre 1922 e 2021.\n",
        "A partir dessas informações, o sistema mostrará o nome do usuário e a idade que completou, ou completará, no ano atual (2022).\n",
        "\n",
        "Caso o usuário não digite um número ou apareça um inválido no campo do ano, o sistema informará o erro e continuará perguntando até que um valor correto seja preenchido."
      ],
      "metadata": {
        "id": "XZmdT0gHz1PY"
      }
    },
    {
      "cell_type": "code",
      "source": [
        "print(\"Por favor digite seu nome completo\")\n",
        "nome = (str(input()))\n",
        "\n",
        "ex = True\n",
        "while(ex == True):\n",
        "  print(\"Por favor digite seu ano de nascimento\")\n",
        "  try:\n",
        "    ano = (int(input()))\n",
        "    if(ano<1912) or (ano>2021):\n",
        "        print(\"Por favor digite um valor de ano válido\")\n",
        "    else:\n",
        "      idade = 2021 - ano\n",
        "      print(\"O nome do usuário é:\",nome, \"e estará fazendo: \",idade, \" neste ano\")\n",
        "      ex = False\n",
        "  except:\n",
        "      print(\"Caracter inválido, por favor digite um ano válido\")\n"
      ],
      "metadata": {
        "colab": {
          "base_uri": "https://localhost:8080/"
        },
        "id": "gXfK9j25z2Mn",
        "outputId": "0288f80b-d3f8-4a99-a225-e9b754b804de"
      },
      "execution_count": 3,
      "outputs": [
        {
          "output_type": "stream",
          "name": "stdout",
          "text": [
            "Por favor digite seu nome completo\n",
            "hasjfahf\n",
            "Por favor digite seu ano de nascimento\n",
            "1601\n",
            "Por favor digite um valor de ano válido\n",
            "Por favor digite seu ano de nascimento\n",
            "1152\n",
            "Por favor digite um valor de ano válido\n",
            "Por favor digite seu ano de nascimento\n",
            "1950\n",
            "O nome do usuário é: hasjfahf e estará fazendo:  71  neste ano\n"
          ]
        }
      ]
    }
  ]
}