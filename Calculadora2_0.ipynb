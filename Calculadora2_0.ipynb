{
  "nbformat": 4,
  "nbformat_minor": 0,
  "metadata": {
    "colab": {
      "provenance": [],
      "authorship_tag": "ABX9TyNAz3HyUsyAR2JE/iTaZRvN",
      "include_colab_link": true
    },
    "kernelspec": {
      "name": "python3",
      "display_name": "Python 3"
    },
    "language_info": {
      "name": "python"
    }
  },
  "cells": [
    {
      "cell_type": "markdown",
      "metadata": {
        "id": "view-in-github",
        "colab_type": "text"
      },
      "source": [
        "<a href=\"https://colab.research.google.com/github/MariaACampos/zero/blob/main/Calculadora2_0.ipynb\" target=\"_parent\"><img src=\"https://colab.research.google.com/assets/colab-badge.svg\" alt=\"Open In Colab\"/></a>"
      ]
    },
    {
      "cell_type": "code",
      "source": [],
      "metadata": {
        "id": "aPwwamVIz_mL"
      },
      "execution_count": null,
      "outputs": []
    },
    {
      "cell_type": "markdown",
      "source": [
        "\n",
        "Faça uma função calculadora que os números e as operações serão feitas pelo usuário. O código deve ficar rodando infinitamente até que o usuário escolha a opção de sair. No início, o programa mostrará a seguinte lista de operações:\n",
        "\n",
        "1: Soma\n",
        "2: Subtração\n",
        "3: Multiplicação\n",
        "4: Divisão\n",
        "0: Sair\n",
        "\n",
        "Digite o número para a operação correspondente e caso o usuário introduza qualquer outro, o sistema deve mostrar a mensagem “Essa opção não existe” e voltar ao menu de opções.\n",
        "\n",
        "Após a seleção, o sistema deve pedir para o usuário inserir o primeiro e segundo valor, um de cada. Depois precisa executar a operação e mostrar o resultado na tela. Quando o usuário escolher a opção “Sair”, o sistema irá parar.\n",
        "\n",
        "É necessário que o sistema mostre as opções sempre que finalizar uma operação e mostrar o resultado.\n",
        "\n",
        "Trabalhe esse código em seu IDE, suba ele para sua conta no GitHub e compartilhe o link desse projeto no campo ao lado para que outros desenvolvedores possam analisá-lo.\n",
        "---\n",
        "\n"
      ],
      "metadata": {
        "id": "EOc6bM2e0AIC"
      }
    },
    {
      "cell_type": "code",
      "source": [
        "def calculadora (num1 , num2 , operador):\n",
        "    if (operador == 1):\n",
        "      return num1+num2\n",
        "    elif(operador == 2):\n",
        "      return num1-num2\n",
        "    elif (operador == 3):\n",
        "       return num1*num2\n",
        "    elif(operador ==4 ):\n",
        "      return num1/num2\n",
        "    else:\n",
        "      return 0\n",
        "\n",
        "executar = True\n",
        "\n",
        "while(executar == True):\n",
        "  print(\"Qual operação você quer realizar\")\n",
        "  print (\"sendo: 1 Soma ----- 2 Subtração  ------ 3 Multiplicação --------- 4 Divisão\")\n",
        "  operador = int(input())\n",
        "  if(operador<0) or (operador>4):\n",
        "    print(\"Essa operação não existe\")\n",
        "  elif(operador == 0):\n",
        "      execultar = False\n",
        "  else:\n",
        "   print (\"Digite um valor: \")\n",
        "   num1 = int(input(\"\"))\n",
        "   print (\"Digite um valor: \")\n",
        "   num2 = int(input(\"\"))\n",
        "   resultado = calculadora (num1,num2,operador )\n",
        "   print(\"O valor do resultado é:\", resultado)\n"
      ],
      "metadata": {
        "id": "I_KDwYF90D0p",
        "colab": {
          "base_uri": "https://localhost:8080/"
        },
        "outputId": "9d2b9340-cb61-4e85-dd85-17cbfc5f4439"
      },
      "execution_count": null,
      "outputs": [
        {
          "output_type": "stream",
          "name": "stdout",
          "text": [
            "Qual operação você quer realizar\n",
            "sendo: 1 Soma ----- 2 Subtração  ------ 3 Multiplicação --------- 4 Divisão\n",
            "0\n",
            "Essa operação nãnão existe\n",
            "Qual operação você quer realizar\n",
            "sendo: 1 Soma ----- 2 Subtração  ------ 3 Multiplicação --------- 4 Divisão\n",
            "8\n",
            "Essa operação nãnão existe\n",
            "Qual operação você quer realizar\n",
            "sendo: 1 Soma ----- 2 Subtração  ------ 3 Multiplicação --------- 4 Divisão\n"
          ]
        }
      ]
    }
  ]
}