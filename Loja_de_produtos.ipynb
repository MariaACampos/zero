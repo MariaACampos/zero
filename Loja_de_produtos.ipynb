{
  "nbformat": 4,
  "nbformat_minor": 0,
  "metadata": {
    "colab": {
      "provenance": [],
      "authorship_tag": "ABX9TyMAUrjLHTx72Xt/YBZKCs+L",
      "include_colab_link": true
    },
    "kernelspec": {
      "name": "python3",
      "display_name": "Python 3"
    },
    "language_info": {
      "name": "python"
    }
  },
  "cells": [
    {
      "cell_type": "markdown",
      "metadata": {
        "id": "view-in-github",
        "colab_type": "text"
      },
      "source": [
        "<a href=\"https://colab.research.google.com/github/MariaACampos/zero/blob/main/Loja_de_produtos.ipynb\" target=\"_parent\"><img src=\"https://colab.research.google.com/assets/colab-badge.svg\" alt=\"Open In Colab\"/></a>"
      ]
    },
    {
      "cell_type": "markdown",
      "source": [
        "A loja de cosméticos ficou muito feliz com seu trabalho e chamaram você novamente! Dessa vez, eles precisam que você atualize o array de produtos. Agora, eles estão vendendo rímel ao invés de batons, e cremes hidratantes no lugar de loções. Além disso, ficaram sem delineadores, então precisam que você remova ele da lista de produtos. Imprima a nova lista no terminal para verificar que as alterações foram realizadas corretamente.\n",
        "\n",
        "lista_produtos = ['máscaras faciais', 'batons', 'esmaltes', 'perfumes', 'loções', 'xampus', 'sabonetes', 'delineadores']\n",
        "\n",
        "Como desafio, adicione dois novos produtos da sua escolha à lista.\n"
      ],
      "metadata": {
        "id": "9bPYVql6vL7D"
      }
    },
    {
      "cell_type": "code",
      "source": [
        "#A lista de prosutos anterior é a seguinte:\n",
        "lista_produtos = ['máscaras faciais', 'batons', 'esmaltes', 'perfumes', 'loções', 'xampus', 'sabonetes', 'delineadores']\n",
        "print(\"Essa é a antiga lista de produtos: \" ,lista_produtos)\n",
        "lista_produtos[1]='rímel'\n",
        "lista_produtos[4]='cremes hidratantes'\n",
        "lista_produtos.pop()\n",
        "print(\"A nova lista de produtos possui:\" ,lista_produtos)"
      ],
      "metadata": {
        "colab": {
          "base_uri": "https://localhost:8080/"
        },
        "id": "6WOfdgvivXaC",
        "outputId": "abc9ce40-13c1-4b36-fd15-57a6be0df505"
      },
      "execution_count": 9,
      "outputs": [
        {
          "output_type": "stream",
          "name": "stdout",
          "text": [
            "Essa é a antiga lista de produtos:  ['máscaras faciais', 'batons', 'esmaltes', 'perfumes', 'loções', 'xampus', 'sabonetes', 'delineadores']\n",
            "A nova lista de produtos possui: ['máscaras faciais', 'rímel', 'esmaltes', 'perfumes', 'cremes hidratantes', 'xampus', 'sabonetes']\n"
          ]
        }
      ]
    },
    {
      "cell_type": "code",
      "execution_count": null,
      "metadata": {
        "id": "D61KSNsXvDKz"
      },
      "outputs": [],
      "source": []
    }
  ]
}