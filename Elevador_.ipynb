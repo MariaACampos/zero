{
  "cells": [
    {
      "cell_type": "markdown",
      "metadata": {
        "id": "view-in-github",
        "colab_type": "text"
      },
      "source": [
        "<a href=\"https://colab.research.google.com/github/MariaACampos/zero/blob/main/Elevador_.ipynb\" target=\"_parent\"><img src=\"https://colab.research.google.com/assets/colab-badge.svg\" alt=\"Open In Colab\"/></a>"
      ]
    },
    {
      "cell_type": "code",
      "execution_count": null,
      "metadata": {
        "colab": {
          "base_uri": "https://localhost:8080/"
        },
        "id": "QeqaYUZ8O-FX",
        "outputId": "e0d4410a-e919-46b5-f946-68353c543f49"
      },
      "outputs": [
        {
          "name": "stdout",
          "output_type": "stream",
          "text": [
            "voce esta no andar\n",
            "20\n",
            "voce esta no andar\n",
            "19\n",
            "voce esta no andar\n",
            "18\n",
            "voce esta no andar\n",
            "17\n",
            "voce esta no andar\n",
            "16\n",
            "voce esta no andar\n",
            "15\n",
            "voce esta no andar\n",
            "14\n",
            "voce esta no andar\n",
            "12\n",
            "voce esta no andar\n",
            "11\n",
            "voce esta no andar\n",
            "10\n",
            "voce esta no andar\n",
            "9\n",
            "voce esta no andar\n",
            "8\n",
            "voce esta no andar\n",
            "7\n",
            "voce esta no andar\n",
            "6\n",
            "voce esta no andar\n",
            "5\n",
            "voce esta no andar\n",
            "4\n",
            "voce esta no andar\n",
            "3\n",
            "voce esta no andar\n",
            "2\n",
            "voce esta no andar\n",
            "1\n",
            "voce esta no andar\n",
            "0\n"
          ]
        }
      ],
      "source": [
        "#Precisamos imprimir um número para cada andar de um hotel de 20 andares.\n",
        "#Porém, o dono do hotel é supersticioso e optou por não ter um 13ro andar.\n",
        "#Escreva um código que imprima todos os números exceto o número 13.\n",
        "#Escreva mais dois códigos que resolvam o mesmo problema,\n",
        "#mas dessa vez usando os outros dois tipos de laços de repetição aprendidos.\n",
        "#Como desafio, imprima eles em ordem decrescente (20, 19, 18...)\n",
        "\n",
        "#usar o contador que decresce sendo negativo.While. condicao para pular o 13 com um if dentro do while.\n",
        "#lacos aprendidos:While, For\n",
        "\n",
        "#uso de for\n",
        "for i in range (20,0,-1):\n",
        "  if(i>=14):\n",
        "    print(\"voce esta no andar\")\n",
        "    print(i)\n",
        "  if(i<=13):\n",
        "    i=i-1\n",
        "    print(\"voce esta no andar\")\n",
        "    print(i)\n"
      ]
    },
    {
      "cell_type": "code",
      "execution_count": null,
      "metadata": {
        "colab": {
          "background_save": true,
          "base_uri": "https://localhost:8080/"
        },
        "id": "L9dNtGJwhSHI",
        "outputId": "1db609bd-1134-40bf-932b-b7eff2f9b429"
      },
      "outputs": [
        {
          "name": "stdout",
          "output_type": "stream",
          "text": [
            "Voce esta no andar:\n",
            "20\n",
            "Voce esta no andar:\n",
            "19\n",
            "Voce esta no andar:\n",
            "18\n",
            "Voce esta no andar:\n",
            "17\n",
            "Voce esta no andar:\n",
            "16\n",
            "Voce esta no andar:\n",
            "15\n",
            "Voce esta no andar:\n",
            "14\n",
            "Voce esta no andar:\n",
            "12\n",
            "Voce esta no andar:\n",
            "11\n",
            "Voce esta no andar:\n",
            "10\n",
            "Voce esta no andar:\n",
            "9\n",
            "Voce esta no andar:\n",
            "8\n",
            "Voce esta no andar:\n",
            "7\n",
            "Voce esta no andar:\n",
            "6\n",
            "Voce esta no andar:\n",
            "5\n",
            "Voce esta no andar:\n",
            "4\n",
            "Voce esta no andar:\n",
            "3\n",
            "Voce esta no andar:\n",
            "2\n",
            "Voce esta no andar:\n",
            "1\n",
            "Voce esta no andar:\n",
            "0\n"
          ]
        }
      ],
      "source": [
        "##Com o uso do While\n",
        "i=20\n",
        "while(i<=20 and i>=0):\n",
        "    if(i>13):\n",
        "        print(\"Voce esta no andar:\")\n",
        "        print(i)\n",
        "        i=i-1\n",
        "\n",
        "    if(i<=13 and i>=1):\n",
        "        i=i-1\n",
        "        print(\"Voce esta no andar:\")\n",
        "        print(i)\n"
      ]
    }
  ],
  "metadata": {
    "colab": {
      "provenance": [],
      "authorship_tag": "ABX9TyNXhSzg9zrW01I0H9AZzfGx",
      "include_colab_link": true
    },
    "kernelspec": {
      "display_name": "Python 3",
      "name": "python3"
    },
    "language_info": {
      "name": "python"
    }
  },
  "nbformat": 4,
  "nbformat_minor": 0
}